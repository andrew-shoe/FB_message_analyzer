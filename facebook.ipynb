{
 "cells": [
  {
   "cell_type": "code",
   "execution_count": 46,
   "metadata": {},
   "outputs": [],
   "source": [
    "import numpy as np\n",
    "import pandas as pd\n",
    "from datetime import datetime\n",
    "from collections import Counter\n",
    "import time\n",
    "import os.path\n",
    "import json\n",
    "import bokeh\n",
    "from bokeh.plotting import figure, show, output_file\n",
    "from bokeh.palettes import Category20_20, Category10_10, Dark2_8, Set2_8, Accent8\n",
    "from bokeh.models import ColumnDataSource, DatetimeTickFormatter, HoverTool, Range1d\n",
    "from itertools import cycle\n",
    "import seaborn as sns\n",
    "import matplotlib.pyplot as plt\n",
    "import matplotlib\n",
    "%matplotlib inline\n",
    "sns.set()"
   ]
  },
  {
   "cell_type": "code",
   "execution_count": 14,
   "metadata": {},
   "outputs": [],
   "source": [
    "COLORS = Category20_20[::2] + Category20_20[1::2] + Accent8 + Category20_20[1::2]"
   ]
  },
  {
   "cell_type": "code",
   "execution_count": 15,
   "metadata": {},
   "outputs": [],
   "source": [
    "class FacebookChat:\n",
    "    # Only for non group messages\n",
    "    DELETED_USER = \"Deleted User\"\n",
    "    def __init__(self, json):\n",
    "        self.json = json\n",
    "        self.participants = json[\"participants\"] + [NAME]\n",
    "        self.total_messages = len(json[\"messages\"])\n",
    "        self.messages_sent = 0 # how this is handled is actually shit but im too lazy\n",
    "        self.total_words = 0\n",
    "        self.words_sent = 0\n",
    "        self.total_stickers = 0\n",
    "        self.stickers_sent = 0\n",
    "        self.words = {p: {} for p in self.participants}\n",
    "        \n",
    "        if \"title\" not in json:\n",
    "            self.title = json[\"thread_path\"]\n",
    "        elif len(self.participants) == 2:\n",
    "            self.title = self.participants[0]\n",
    "        else:\n",
    "            self.title = json[\"title\"]\n",
    "            \n",
    "        categories = [\"messages\", \"words\", \"stickers\"]\n",
    "        self.data = {cat : data for cat, data in zip(categories, self.detailed_breakdown_by_date())}\n",
    "        \n",
    "        \n",
    "    def breakdown_by_date(self, mode):\n",
    "        '''msgs_by_date is a dict {date : num <mode>}'''\n",
    "        if mode == \"messages\":\n",
    "            return {date: sum(ind_breakdown.values())\n",
    "                for date, ind_breakdown in self.data[\"messages\"].items()}\n",
    "        elif mode == \"words\":\n",
    "            return {date: sum(ind_breakdown.values())\n",
    "                for date, ind_breakdown in self.data[\"words\"].items()}\n",
    "        elif mode == \"stickers\":\n",
    "            return {date: sum(ind_breakdown.values())\n",
    "                for date, ind_breakdown in self.data[\"stickers\"].items()}\n",
    "    \n",
    "    def detailed_breakdown_by_date(self):\n",
    "        '''detailed_breakdown is a nested dictionary {dates : {person : num_messages}}'''\n",
    "        detailed_breakdown_messages, detailed_breakdown_words, detailed_breakdown_stickers = {}, {}, {}\n",
    "        words_per_message = {p: (0, 0) for p in self.participants}\n",
    "        for msg in self.json[\"messages\"]:\n",
    "            \n",
    "            date = ms_to_date(msg[\"timestamp_ms\"])\n",
    "            person = msg[\"sender_name\"] if \"sender_name\" in msg else FacebookChat.DELETED_USER\n",
    "            msg_content = msg[\"content\"].split(' ') if 'content' in msg else [] # usually a sticker if no content\n",
    "            msg_length = len(msg_content)\n",
    "            self.total_words += msg_length\n",
    "            \n",
    "            if person in self.participants:\n",
    "                for word in msg_content:\n",
    "                    word = word.lower()\n",
    "                    person_words = self.words[person]\n",
    "                    person_words[word] = person_words.get(word, 0) + 1\n",
    "                    self.words[person] = person_words\n",
    "                \n",
    "            \n",
    "            if \"sticker\" in msg:\n",
    "                self.total_stickers += 1\n",
    "                stk_breakdown = detailed_breakdown_stickers.get(date, {})\n",
    "                ind_stk = stk_breakdown.get(person, 0)\n",
    "                stk_breakdown[person] = ind_stk + 1\n",
    "                detailed_breakdown_stickers[date] = stk_breakdown\n",
    "                \n",
    "                if \"sender_name\" in msg and msg[\"sender_name\"] == NAME:\n",
    "                    self.stickers_sent += 1\n",
    "            \n",
    "            msg_breakdown = detailed_breakdown_messages.get(date, {})\n",
    "            word_breakdown = detailed_breakdown_words.get(date, {})\n",
    "            \n",
    "            # inner dictionary\n",
    "            ind_msg = msg_breakdown.get(person, 0)\n",
    "            msg_breakdown[person] = ind_msg + 1\n",
    "            detailed_breakdown_messages[date] = msg_breakdown\n",
    "            \n",
    "            ind_word = word_breakdown.get(person, 0)\n",
    "            word_breakdown[person] = ind_word + msg_length\n",
    "            detailed_breakdown_words[date] = word_breakdown\n",
    "            \n",
    "            if \"sender_name\" in msg and msg[\"sender_name\"] == NAME:\n",
    "                self.messages_sent += 1\n",
    "                self.words_sent += msg_length\n",
    "            \n",
    "    \n",
    "        return (detailed_breakdown_messages, detailed_breakdown_words, detailed_breakdown_stickers)\n",
    "    \n",
    "    def group_breakdown_by_date(self):\n",
    "        pass\n",
    "    \n",
    "    def is_groupchat(self):\n",
    "        return len(self.participants) > 2\n",
    "    \n",
    "    def is_deleted_user(self):\n",
    "        return not self.is_groupchat() and '' in self.participants\n",
    "    \n",
    "    def get_data(self, mode, start_date=None, end_date=None): # Change this so it isnt none\n",
    "        if mode == \"messages\":\n",
    "            return self.data[\"messages\"]\n",
    "        elif mode == \"words\":\n",
    "            return self.data[\"words\"]\n",
    "        elif mode == \"stickers\":\n",
    "            return self.data[\"stickers\"]\n",
    "\n",
    "def ms_to_date(ms):\n",
    "    dt = datetime.fromtimestamp(ms//1000)\n",
    "    return dt.strftime(\"%Y-%m\")\n",
    "    return \"{}/{}\".format(dt.month, dt.year) # puts it in M/YYYY format\n",
    "\n",
    "def gen_total_df(chats, mode):\n",
    "    all_data = {}\n",
    "    other_counter = Counter()\n",
    "    delete_counter = Counter()\n",
    "    total = 0\n",
    "    total_sent = 0\n",
    "    for name, chat in chats.items():\n",
    "        if chat.is_groupchat() and IGNORE_GROUPCHATS:\n",
    "            continue\n",
    "            \n",
    "        if mode == \"messages\":\n",
    "            total += chat.total_messages\n",
    "            total_sent += chat.messages_sent\n",
    "        elif mode == \"words\":\n",
    "            total += chat.total_words\n",
    "            total_sent += chat.words_sent\n",
    "        elif mode == \"stickers\":\n",
    "            total += chat.total_stickers\n",
    "            total_sent += chat.stickers_sent\n",
    "            \n",
    "        if chat.is_deleted_user():\n",
    "            delete_counter += Counter(chat.breakdown_by_date(mode))\n",
    "        elif chat.total_messages < THRESHOLD:\n",
    "            other_counter += Counter(chat.breakdown_by_date(mode))\n",
    "        else:\n",
    "            all_data[name] = chat.breakdown_by_date(mode)\n",
    "            \n",
    "    all_data[\"Deleted Users\"] = dict(delete_counter)\n",
    "    all_data[\"others\"] = dict(other_counter)\n",
    "    return all_data, total, total_sent\n",
    "\n",
    "def make_autopct(values):\n",
    "    def my_autopct(pct):\n",
    "        total = sum(values)\n",
    "        val = int(round(pct*total/100.0))\n",
    "        return '{p:.2f}%  ({v:d})'.format(p=pct,v=val)\n",
    "    return my_autopct\n",
    "\n",
    "def sum_dict(d):\n",
    "    return sum([x for x in d.values()])\n",
    "\n",
    "def conv_to_perc(df):\n",
    "    return df.divide(df.sum(axis=1), axis=\"rows\")\n",
    "\n",
    "def stacked(df): # straight from the docs, makes outlines of the glyphs\n",
    "    df_top = df.cumsum(axis=1)\n",
    "    df_bottom = df_top.shift(axis=1).fillna(0)\n",
    "    df_line = (df_top + df_bottom)/2\n",
    "    df_stack = pd.concat([df_bottom[::-1], df_top], ignore_index=True)\n",
    "    return df_stack, df_line\n",
    "\n",
    "def get_groupchats(chats):\n",
    "    return {k : v for k, v in chats.items() if len(v.participants) > 2}"
   ]
  },
  {
   "cell_type": "code",
   "execution_count": 16,
   "metadata": {},
   "outputs": [],
   "source": [
    "def area_plot(df, title):\n",
    "    df = df.reindex(pd.to_datetime(df.index))\n",
    "    N = len(df)\n",
    "\n",
    "    areas, lines = stacked(df)\n",
    "    x2 = np.hstack((df.index[::-1], df.index))\n",
    "    source_area = ColumnDataSource(dict(\n",
    "                xs=[x2] * areas.shape[1],\n",
    "                ys=[areas[c].values for c in areas],\n",
    "                color=[COLOR_DICT[name] for name in list(df)],\n",
    "                label=list(df),\n",
    "                ))\n",
    "    \n",
    "#     source_lines = ColumnDataSource(dict(\n",
    "#                 xs=[lines.index] * lines.shape[1],\n",
    "#                 ys=[lines[c].values for c in lines],\n",
    "#                 color=colors,\n",
    "#                 label=list(df)))\n",
    "    \n",
    "    hover = HoverTool(\n",
    "        tooltips = [\n",
    "            (\"Person\", \"@label\"),\n",
    "        ],\n",
    "        point_policy=\"follow_mouse\")\n",
    "\n",
    "    p = figure(x_axis_type=\"datetime\", plot_width=1280, plot_height=600)\n",
    "    p.xaxis[0].formatter = DatetimeTickFormatter(months=\"%b-%Y\")\n",
    "    p.grid.minor_grid_line_color = '#eeeeee'\n",
    "\n",
    "    p.patches( xs='xs', ys='ys', color='color', name='area', source=source_area)\n",
    "#     p.multi_line( xs='xs', ys='ys', color='#000000', name='lines', source=source_lines)\n",
    "    p.add_tools(hover)\n",
    "    output_file('graphs/{}.html'.format(title), title=title)\n",
    "\n",
    "    show(p)"
   ]
  },
  {
   "cell_type": "markdown",
   "metadata": {},
   "source": [
    "# Fill This Out"
   ]
  },
  {
   "cell_type": "code",
   "execution_count": 17,
   "metadata": {},
   "outputs": [],
   "source": [
    "NAME = \"Andrew Xu\"\n",
    "THRESHOLD = 2000 # threshold of messages before someone is considered others\n",
    "IGNORE_GROUPCHATS = True  # whether to include groupchat in the analysis "
   ]
  },
  {
   "cell_type": "markdown",
   "metadata": {},
   "source": [
    "### Read in Data"
   ]
  },
  {
   "cell_type": "code",
   "execution_count": 18,
   "metadata": {
    "scrolled": true
   },
   "outputs": [],
   "source": [
    "files = os.listdir(\"messages\")\n",
    "ignore = [\".DS_Store\", \"stickers_used\"]\n",
    "chats = {}\n",
    "\n",
    "for file in files:\n",
    "    if file in ignore:\n",
    "        continue\n",
    "    with open(\"messages/{}/message.json\".format(file), \"rb\") as f:\n",
    "        data_json = json.load(f)\n",
    "    if not \"participants\" in data_json:# or '' in data_json[\"participants\"]:\n",
    "        continue\n",
    "\n",
    "    chat = FacebookChat(data_json)\n",
    "    chats[chat.title] = chat"
   ]
  },
  {
   "cell_type": "markdown",
   "metadata": {},
   "source": [
    "#### Set colors"
   ]
  },
  {
   "cell_type": "code",
   "execution_count": 19,
   "metadata": {},
   "outputs": [],
   "source": [
    "all_data, total_msgs, total_msgs_sent = gen_total_df(chats, \"messages\")\n",
    "df_msg = pd.DataFrame(all_data)\n",
    "df_msg = df_msg.fillna(0)\n",
    "all_word_data, total_words, total_words_sent = gen_total_df(chats, \"words\")\n",
    "df_word = pd.DataFrame(all_word_data)\n",
    "df_word = df_word.fillna(0)\n",
    "all_sticker_data, total_stickers, total_stickers_sent = gen_total_df(chats, \"stickers\")\n",
    "df_sticker = pd.DataFrame(all_sticker_data)\n",
    "df_sticker = df_sticker.fillna(0)\n",
    "\n",
    "colors = [x for _, x in zip(range(len(list(df_msg))), cycle(COLORS))]\n",
    "COLOR_DICT = {name: color for name, color in zip(df_msg.sum().sort_values().index[::-1], colors)}"
   ]
  },
  {
   "cell_type": "markdown",
   "metadata": {},
   "source": [
    "## Go one at a time please for the next 4 (Interactive graphs)"
   ]
  },
  {
   "cell_type": "code",
   "execution_count": null,
   "metadata": {
    "scrolled": false
   },
   "outputs": [],
   "source": [
    "area_plot(df_msg, \"Messages\")\n",
    "area_plot(conv_to_perc(df_msg), \"Messages_Percentage\")\n",
    "bokeh.io.reset_output()\n",
    "time.sleep(10)"
   ]
  },
  {
   "cell_type": "code",
   "execution_count": null,
   "metadata": {},
   "outputs": [],
   "source": [
    "area_plot(df_word, \"Words\")\n",
    "area_plot(conv_to_perc(df_word), \"Words_Percentage\")\n",
    "bokeh.io.reset_output()\n",
    "time.sleep(10)"
   ]
  },
  {
   "cell_type": "code",
   "execution_count": null,
   "metadata": {},
   "outputs": [],
   "source": [
    "area_plot(df_sticker, \"Stickers\")\n",
    "area_plot(conv_to_perc(df_sticker), \"Stickers_Percentage\")\n",
    "bokeh.io.reset_output()\n",
    "time.sleep(10)"
   ]
  },
  {
   "cell_type": "code",
   "execution_count": 113,
   "metadata": {},
   "outputs": [],
   "source": [
    "num_rows = 5\n",
    "df_no_others = df_word.drop(['others'], axis=1)\n",
    "df = conv_to_perc(df_no_others).reindex(pd.to_datetime(df_no_others.index))\n",
    "ranking = df.values.argsort(axis=1)[:,-num_rows:]\n",
    "names = list(df)\n",
    "shape = np.shape(ranking)\n",
    "ranking_names = np.reshape(np.array([names[x] for x in ranking.flatten()]), shape)\n",
    "\n",
    "ind_rankings = {name:[np.nan]*len(ranking_names) for name in set(ranking_names.flatten())}\n",
    "for date, rank in enumerate(ranking_names):\n",
    "    for idx, name in enumerate(rank):\n",
    "        ind_rankings[name][date] = idx\n",
    "\n",
    "output_file(\"line.html\")\n",
    "p = figure(x_axis_type=\"datetime\", x_range=Range1d(df.index.min(), df.index.max()),\n",
    "           y_range=Range1d(-.2, num_rows - .8, bounds=\"auto\"), plot_width=1600, plot_height=300,\n",
    "          toolbar_location=\"left\")\n",
    "p.xaxis[0].formatter = DatetimeTickFormatter(months=\"%b-%Y\")\n",
    "\n",
    "for name, y in ind_rankings.items():\n",
    "    color = COLOR_DICT[name]\n",
    "    source = ColumnDataSource(dict(x=df.index, y=y, prop=df[name], size=df[name]*7.5 + 5))\n",
    "    p.line('x', 'y', line_color=color, line_width=3, source=source)\n",
    "    p.circle('x', 'y', radius='size', fill_color=color, line_color=color, name=name, source=source)\n",
    "hover = HoverTool(\n",
    "    tooltips = [\n",
    "        (\"Person\", \"$name\"),\n",
    "        (\"Proportion\", \"@prop\")\n",
    "    ],\n",
    "    point_policy=\"follow_mouse\",\n",
    "    names=list(df))\n",
    "p.add_tools(hover)\n",
    "show(p)\n",
    "# For windows\n",
    "bokeh.io.reset_output()"
   ]
  },
  {
   "cell_type": "markdown",
   "metadata": {},
   "source": [
    "# Misc Stats"
   ]
  },
  {
   "cell_type": "code",
   "execution_count": null,
   "metadata": {},
   "outputs": [],
   "source": [
    "# See who you message the most\n",
    "x = df_word.sum().sort_values()"
   ]
  },
  {
   "cell_type": "code",
   "execution_count": null,
   "metadata": {},
   "outputs": [],
   "source": [
    "labels = list(df_msg.sum().sort_values().keys())\n",
    "msgs = [x for x in list(df_msg.sum().sort_values().values)]\n",
    "plt.figure(figsize=(10,10))\n",
    "plt.title(\"Messages\")\n",
    "plt.pie(msgs, labels=labels, autopct=\"%.1f%%\")\n",
    "plt.show()"
   ]
  },
  {
   "cell_type": "code",
   "execution_count": null,
   "metadata": {
    "scrolled": false
   },
   "outputs": [],
   "source": [
    "plt.figure(figsize=(20,10))\n",
    "sns.barplot(x=df_msg.sum().sort_values().keys(), y=df_msg.sum().sort_values().values)\n",
    "plt.xticks(rotation=70)\n",
    "plt.title(\"Messages\")\n",
    "plt.show()\n"
   ]
  },
  {
   "cell_type": "code",
   "execution_count": null,
   "metadata": {},
   "outputs": [],
   "source": [
    "print(df_word.sum().sort_values())"
   ]
  },
  {
   "cell_type": "code",
   "execution_count": null,
   "metadata": {},
   "outputs": [],
   "source": [
    "labels = list(df_word.sum().sort_values().keys())\n",
    "perc = [x for x in list(df_word.sum().sort_values().values)]\n",
    "plt.figure(figsize=(10,10))\n",
    "plt.title(\"Words\")\n",
    "plt.pie(perc, labels=labels, autopct='%.1f%%')\n",
    "plt.show()"
   ]
  },
  {
   "cell_type": "code",
   "execution_count": null,
   "metadata": {},
   "outputs": [],
   "source": [
    "plt.figure(figsize=(20,10))\n",
    "sns.barplot(x=df_word.sum().sort_values().keys(), y=df_word.sum().sort_values().values)\n",
    "plt.xticks(rotation=70)\n",
    "plt.title(\"Words\")\n",
    "plt.show()\n"
   ]
  },
  {
   "cell_type": "code",
   "execution_count": null,
   "metadata": {},
   "outputs": [],
   "source": [
    "# Average message length\n",
    "(df_word.sum()/df_msg.sum()).sort_values()"
   ]
  },
  {
   "cell_type": "code",
   "execution_count": null,
   "metadata": {},
   "outputs": [],
   "source": [
    "y_pos = np.arange(len(list(df_word)))\n",
    "plt.figure(figsize=(10,10))\n",
    "values = (df_word.sum()/df_msg.sum()).sort_values().values\n",
    "labels = (df_word.sum()/df_msg.sum()).sort_values().keys()\n",
    "plt.barh(y_pos, values)\n",
    "plt.yticks(y_pos, labels)\n",
    "plt.title(\"Average WPM\")\n",
    "# plt.set_ytickslabels(labels)\n",
    "plt.show()"
   ]
  },
  {
   "cell_type": "code",
   "execution_count": null,
   "metadata": {
    "scrolled": false
   },
   "outputs": [],
   "source": [
    "print(df_sticker.sum().sort_values())"
   ]
  },
  {
   "cell_type": "code",
   "execution_count": null,
   "metadata": {},
   "outputs": [],
   "source": [
    "labels = list(df_sticker.sum().sort_values().keys())\n",
    "perc = [x for x in list(df_sticker.sum().sort_values().values)]\n",
    "plt.figure(figsize=(10,10))\n",
    "plt.title(\"Stickers\")\n",
    "plt.pie(perc, labels=labels, autopct='%.1f%%')\n",
    "plt.show()"
   ]
  },
  {
   "cell_type": "code",
   "execution_count": null,
   "metadata": {},
   "outputs": [],
   "source": [
    "plt.figure(figsize=(20,10))\n",
    "sns.barplot(x=df_sticker.sum().sort_values().keys(), y=df_sticker.sum().sort_values().values)\n",
    "plt.xticks(rotation=70)\n",
    "plt.title(\"Stickers\")\n",
    "plt.show()"
   ]
  },
  {
   "cell_type": "code",
   "execution_count": null,
   "metadata": {},
   "outputs": [],
   "source": [
    "(df_msg.sum()/df_sticker.sum()).sort_values()"
   ]
  },
  {
   "cell_type": "code",
   "execution_count": null,
   "metadata": {},
   "outputs": [],
   "source": [
    "\n",
    "plt.figure(figsize=(10,10))\n",
    "values = (df_msg.sum()/df_sticker.sum()).sort_values().values\n",
    "labels = (df_msg.sum()/df_sticker.sum()).sort_values().keys()\n",
    "new_values, new_labels = [], []\n",
    "for value, label in zip(values, labels):\n",
    "    if value < 1000:\n",
    "        new_values.append(value)\n",
    "        new_labels.append(label)\n",
    "y_pos = np.arange(len(list(new_values)))\n",
    "plt.barh(y_pos, new_values)\n",
    "plt.yticks(y_pos, new_labels)\n",
    "plt.title(\"Average Messages per Sticker\")\n",
    "# plt.set_ytickslabels(labels)\n",
    "plt.show()"
   ]
  },
  {
   "cell_type": "code",
   "execution_count": null,
   "metadata": {},
   "outputs": [],
   "source": [
    "print(\"total messages: {}\".format(total_msgs))\n",
    "print(\"total words: {}\".format(total_words))\n",
    "\n",
    "\n",
    "fig, axes = plt.subplots(1,3, figsize=(17,5))\n",
    "labels = [\"Messages Sent\", \"Messages Received\", \"Words Sent\", \"Words Received\", \"Stickers Sent\", \"Stickers Received\"]\n",
    "msg_vals = [total_msgs_sent, total_msgs - total_msgs_sent]\n",
    "axes[0].pie(msg_vals , labels=labels[:2], autopct=make_autopct(msg_vals))\n",
    "word_vals = [total_words_sent, total_words - total_words_sent]\n",
    "axes[1].pie(word_vals , labels=labels[2:4], autopct=make_autopct(word_vals))\n",
    "sticker_vals = [total_stickers_sent, total_stickers - total_stickers_sent]\n",
    "axes[2].pie(sticker_vals , labels=labels[4:], autopct=make_autopct(sticker_vals))\n",
    "plt.show()"
   ]
  },
  {
   "cell_type": "markdown",
   "metadata": {},
   "source": [
    "# Individual Analysis"
   ]
  },
  {
   "cell_type": "markdown",
   "metadata": {},
   "source": [
    "### Name of other person"
   ]
  },
  {
   "cell_type": "code",
   "execution_count": null,
   "metadata": {},
   "outputs": [],
   "source": [
    "OTHER = \"Billy Zhao\""
   ]
  },
  {
   "cell_type": "code",
   "execution_count": null,
   "metadata": {},
   "outputs": [],
   "source": [
    "OTHER_MSG = OTHER + \" messages\"\n",
    "OTHER_WORD = OTHER + \" words\"\n",
    "OTHER_STK = OTHER + \" stickers\"\n",
    "OTHER_WPM = OTHER + \" wpm\"\n",
    "OTHER_MPS = OTHER + \" mps\"\n",
    "\n",
    "NAME_MSG = NAME + \" messages\"\n",
    "NAME_WORD = NAME + \" words\"\n",
    "NAME_STK = NAME + \" stickers\"\n",
    "NAME_WPM = NAME + \" wpm\"\n",
    "NAME_MPS = NAME + \" mps\""
   ]
  },
  {
   "cell_type": "code",
   "execution_count": null,
   "metadata": {},
   "outputs": [],
   "source": [
    "chat = chats[OTHER]\n",
    "\n",
    "data_msg = chat.get_data(\"messages\")\n",
    "df_ind_msg = pd.DataFrame(data_msg).transpose()\n",
    "df_ind_msg.rename(index=str, columns={NAME: NAME_MSG, OTHER: OTHER_MSG}, inplace=True)\n",
    "\n",
    "data_word = chat.get_data(\"words\")\n",
    "df_ind_word = pd.DataFrame(data_word).transpose()\n",
    "df_ind_word.rename(index=str, columns={NAME: NAME_WORD, OTHER: OTHER_WORD}, inplace=True)\n",
    "\n",
    "data_sticker = chat.get_data(\"stickers\")\n",
    "df_ind_sticker = pd.DataFrame(data_sticker).transpose()\n",
    "df_ind_sticker = df_ind_sticker.reindex(df_ind_word.index)\n",
    "df_ind_sticker.fillna(0, inplace=True)\n",
    "df_ind_sticker.rename(index=str, columns={NAME: NAME_STK, OTHER: OTHER_STK}, inplace=True)\n",
    "\n",
    "df_ind = pd.concat([df_ind_msg, df_ind_word, df_ind_sticker], axis=1)\n",
    "df_ind[NAME_WPM] = df_ind[NAME_WORD]/df_ind[NAME_MSG]\n",
    "df_ind[OTHER_WPM] = df_ind[OTHER_WORD]/df_ind[NAME_MSG]\n",
    "df_ind[NAME_MPS] = df_ind[NAME_MSG]/df_ind[NAME_STK]\n",
    "df_ind[OTHER_MPS] = df_ind[OTHER_MSG]/df_ind[OTHER_STK]\n",
    "\n",
    "df_ind.replace([np.inf, np.NaN], 0, inplace=True)\n",
    "\n",
    "df_ind = df_ind[::-1]"
   ]
  },
  {
   "cell_type": "code",
   "execution_count": null,
   "metadata": {},
   "outputs": [],
   "source": [
    "table = np.zeros((len(chat.participants)*2, 199)).astype(str)\n",
    "for i, person in enumerate(chat.words):\n",
    "    table[2*i:2*(i+1)] = np.array(list(zip(*sorted(chat.words[person].items(), key=lambda p: p[1])[:-200:-1])))"
   ]
  },
  {
   "cell_type": "code",
   "execution_count": null,
   "metadata": {},
   "outputs": [],
   "source": [
    "df_ind.sum().astype(int)\n"
   ]
  },
  {
   "cell_type": "code",
   "execution_count": null,
   "metadata": {},
   "outputs": [],
   "source": [
    "fig, ax = plt.subplots(figsize=(16,8))\n",
    "ax.plot(df_ind[NAME_MSG], label=NAME_MSG)\n",
    "ax.plot(df_ind[OTHER_MSG], label=OTHER_MSG)\n",
    "plt.setp(ax.get_xticklabels(), rotation=60, ha=\"right\",\n",
    "         rotation_mode=\"anchor\")\n",
    "plt.title(\"MESSAGES\")\n",
    "ax.legend()\n",
    "plt.show()"
   ]
  },
  {
   "cell_type": "code",
   "execution_count": null,
   "metadata": {},
   "outputs": [],
   "source": [
    "fig, ax = plt.subplots(figsize=(20,10))\n",
    "ax.plot(df_ind[NAME_WORD], label=NAME_WORD)\n",
    "ax.plot(df_ind[OTHER_WORD], label=OTHER_WORD)\n",
    "plt.setp(ax.get_xticklabels(), rotation=60, ha=\"right\",\n",
    "         rotation_mode=\"anchor\")\n",
    "plt.title(\"WORD\")\n",
    "ax.legend()\n",
    "plt.show()"
   ]
  },
  {
   "cell_type": "code",
   "execution_count": null,
   "metadata": {},
   "outputs": [],
   "source": [
    "fig, ax = plt.subplots(figsize=(20,10))\n",
    "ax.plot(df_ind[NAME_WPM], label=NAME_WPM)\n",
    "ax.plot(df_ind[OTHER_WPM], label=OTHER_WPM)\n",
    "plt.setp(ax.get_xticklabels(), rotation=60, ha=\"right\",\n",
    "         rotation_mode=\"anchor\")\n",
    "plt.title(\"WPM\")\n",
    "ax.legend()\n",
    "plt.show()"
   ]
  },
  {
   "cell_type": "code",
   "execution_count": null,
   "metadata": {},
   "outputs": [],
   "source": [
    "fig, ax = plt.subplots(figsize=(20,10))\n",
    "ax.plot(df_ind[NAME_STK], label=NAME_STK)\n",
    "ax.plot(df_ind[OTHER_STK], label=OTHER_STK)\n",
    "plt.setp(ax.get_xticklabels(), rotation=60, ha=\"right\",\n",
    "         rotation_mode=\"anchor\")\n",
    "plt.title(\"STICKERS\")\n",
    "ax.legend()\n",
    "plt.show()"
   ]
  },
  {
   "cell_type": "code",
   "execution_count": null,
   "metadata": {},
   "outputs": [],
   "source": [
    "fig, ax = plt.subplots(figsize=(20,10))\n",
    "ax.plot(df_ind[NAME_MPS], label=NAME_MPS)\n",
    "ax.plot(df_ind[OTHER_MPS], label=OTHER_MPS)\n",
    "plt.setp(ax.get_xticklabels(), rotation=60, ha=\"right\",\n",
    "         rotation_mode=\"anchor\")\n",
    "plt.title(\"MPS\")\n",
    "ax.legend()\n",
    "plt.show()"
   ]
  },
  {
   "cell_type": "code",
   "execution_count": null,
   "metadata": {},
   "outputs": [],
   "source": [
    "labels = list(df_ind)[:6]\n",
    "\n",
    "fig, axes = plt.subplots(1,3, figsize=(18,5))\n",
    "\n",
    "msg_vals = [chat.messages_sent, chat.total_messages - chat.messages_sent]\n",
    "axes[0].pie(msg_vals, labels=labels[:2], autopct=make_autopct(msg_vals))\n",
    "axes[0].set_title(\"Message proportions\")\n",
    "\n",
    "word_vals = [chat.words_sent, chat.total_words - chat.words_sent]\n",
    "axes[1].pie(word_vals, labels=labels[2:4], autopct=make_autopct(word_vals))\n",
    "axes[1].set_title(\"Word proportions\")\n",
    "\n",
    "stk_vals = [chat.stickers_sent, chat.total_stickers - chat.stickers_sent]\n",
    "axes[2].pie(stk_vals, labels=labels[4:6], autopct=make_autopct(stk_vals))\n",
    "axes[2].set_title(\"Sticker Proportions\")\n",
    "plt.show()"
   ]
  },
  {
   "cell_type": "code",
   "execution_count": null,
   "metadata": {
    "scrolled": false
   },
   "outputs": [],
   "source": [
    "pd.set_option('display.max_rows', None)\n",
    "columns = \"\"\n",
    "for i, person in enumerate(chat.participants):\n",
    "    columns += person + \",freq{},\".format(i)\n",
    "columns = columns[:-1].split(\",\")\n",
    "display(pd.DataFrame(table.T, columns=columns))"
   ]
  },
  {
   "cell_type": "markdown",
   "metadata": {},
   "source": [
    "## Groupchats"
   ]
  },
  {
   "cell_type": "code",
   "execution_count": null,
   "metadata": {},
   "outputs": [],
   "source": [
    "groupchats = get_groupchats(chats)"
   ]
  },
  {
   "cell_type": "code",
   "execution_count": null,
   "metadata": {},
   "outputs": [],
   "source": [
    "sorted([(k, v.total_messages) for k, v in groupchats.items() if v.total_messages > 1000], key=lambda x: x[1])"
   ]
  },
  {
   "cell_type": "code",
   "execution_count": null,
   "metadata": {},
   "outputs": [],
   "source": [
    "GROUPCHAT_NAME = \"Vi's Graduation Harem\""
   ]
  },
  {
   "cell_type": "code",
   "execution_count": null,
   "metadata": {},
   "outputs": [],
   "source": [
    "chat = chats[GROUPCHAT_NAME]"
   ]
  },
  {
   "cell_type": "markdown",
   "metadata": {},
   "source": [
    "## Run through these run at a time please (Interactive graphs)"
   ]
  },
  {
   "cell_type": "code",
   "execution_count": null,
   "metadata": {},
   "outputs": [],
   "source": [
    "df_groupchat_msg = pd.DataFrame(chat.get_data(\"messages\")).transpose().fillna(0)[::-1]\n",
    "area_plot(df_groupchat_msg, \"Groupchat messages\")\n",
    "area_plot(conv_to_perc(df_groupchat_msg), \"Groupchat msg percentage\")\n",
    "time.sleep(10) # SLEEP TO ALLOW GRAPHS TO LOAD"
   ]
  },
  {
   "cell_type": "code",
   "execution_count": null,
   "metadata": {},
   "outputs": [],
   "source": [
    "df_groupchat_word= pd.DataFrame(chat.get_data(\"words\")).transpose().fillna(0)[::-1]\n",
    "area_plot(df_groupchat_word, \"Groupchat words\")\n",
    "area_plot(conv_to_perc(df_groupchat_word), \"Groupchat word percentage\")\n",
    "time.sleep(10)"
   ]
  },
  {
   "cell_type": "code",
   "execution_count": null,
   "metadata": {},
   "outputs": [],
   "source": [
    "df_groupchat_stk = pd.DataFrame(chat.get_data(\"stickers\")).transpose().fillna(0)[::-1]\n",
    "area_plot(df_groupchat_stk, \"Groupchat stickers\")\n",
    "area_plot(conv_to_perc(df_groupchat_stk), \"Groupchat sticker percentage\")\n",
    "time.sleep(10)"
   ]
  },
  {
   "cell_type": "markdown",
   "metadata": {},
   "source": [
    "## Inline graphs"
   ]
  },
  {
   "cell_type": "code",
   "execution_count": null,
   "metadata": {},
   "outputs": [],
   "source": [
    "df_groupchat_msg.sum().sort_values()"
   ]
  },
  {
   "cell_type": "code",
   "execution_count": null,
   "metadata": {},
   "outputs": [],
   "source": [
    "labels = list(df_groupchat_msg.sum().sort_values().keys())\n",
    "msgs = [x for x in list(df_groupchat_msg.sum().sort_values().values)]\n",
    "plt.figure(figsize=(10,10))\n",
    "plt.title(\"Messages\")\n",
    "# plt.pie(xd, labels=labels, autopct=make_autopct(xd))\n",
    "plt.pie(msgs, labels=labels, autopct=\"%.1f%%\")\n",
    "plt.show()"
   ]
  },
  {
   "cell_type": "code",
   "execution_count": null,
   "metadata": {},
   "outputs": [],
   "source": [
    "plt.figure(figsize=(20,10))\n",
    "sns.barplot(x=df_groupchat_msg.sum().sort_values().keys(), y=df_groupchat_msg.sum().sort_values().values)\n",
    "plt.xticks(rotation=70)\n",
    "plt.title(\"Messages\")\n",
    "plt.show()\n"
   ]
  },
  {
   "cell_type": "code",
   "execution_count": null,
   "metadata": {},
   "outputs": [],
   "source": [
    "df_groupchat_word.sum().sort_values()"
   ]
  },
  {
   "cell_type": "code",
   "execution_count": null,
   "metadata": {},
   "outputs": [],
   "source": [
    "labels = list(df_groupchat_word.sum().sort_values().keys())\n",
    "msgs = [x for x in list(df_groupchat_word.sum().sort_values().values)]\n",
    "plt.figure(figsize=(10,10))\n",
    "plt.title(\"Words\")\n",
    "# plt.pie(xd, labels=labels, autopct=make_autopct(xd))\n",
    "plt.pie(msgs, labels=labels, autopct=\"%.1f%%\")\n",
    "plt.show()"
   ]
  },
  {
   "cell_type": "code",
   "execution_count": null,
   "metadata": {},
   "outputs": [],
   "source": [
    "plt.figure(figsize=(20,10))\n",
    "sns.barplot(x=df_groupchat_word.sum().sort_values().keys(), y=df_groupchat_word.sum().sort_values().values)\n",
    "plt.xticks(rotation=70)\n",
    "plt.title(\"words\")\n",
    "plt.show()\n"
   ]
  },
  {
   "cell_type": "code",
   "execution_count": null,
   "metadata": {},
   "outputs": [],
   "source": [
    "(df_groupchat_word.sum()/df_groupchat_msg.sum()).sort_values()"
   ]
  },
  {
   "cell_type": "code",
   "execution_count": null,
   "metadata": {},
   "outputs": [],
   "source": [
    "y_pos = np.arange(len(list(df_groupchat_word)))\n",
    "plt.figure(figsize=(10,10))\n",
    "values = (df_groupchat_word.sum()/df_groupchat_msg.sum()).sort_values().values\n",
    "labels = (df_groupchat_word.sum()/df_groupchat_msg.sum()).sort_values().keys()\n",
    "plt.barh(y_pos, values)\n",
    "plt.yticks(y_pos, labels)\n",
    "plt.title(\"Average WPM\")\n",
    "# plt.set_ytickslabels(labels)\n",
    "plt.show()"
   ]
  },
  {
   "cell_type": "code",
   "execution_count": null,
   "metadata": {},
   "outputs": [],
   "source": [
    "fig, ax = plt.subplots(figsize=(16,8))\n",
    "colors = [c for c, _ in zip(cycle(Category20_20), range(len(df_groupchat_msg)))]\n",
    "for i, person in enumerate(df_groupchat_msg):\n",
    "    ax.plot(df_groupchat_msg[person], label=person, color=colors[i])\n",
    "# ax.plot(df_ind[NAME_MSG], label=NAME_MSG)\n",
    "# ax.plot(df_ind[OTHER_MSG], label=OTHER_MSG)\n",
    "plt.setp(ax.get_xticklabels(), rotation=60, ha=\"right\",\n",
    "         rotation_mode=\"anchor\")\n",
    "plt.title(\"MESSAGES\")\n",
    "ax.legend()\n",
    "plt.show()"
   ]
  },
  {
   "cell_type": "code",
   "execution_count": null,
   "metadata": {},
   "outputs": [],
   "source": [
    "df_groupchat_msg.astype(int)"
   ]
  },
  {
   "cell_type": "markdown",
   "metadata": {},
   "source": [
    "## BUMP CHART STUFF (BETA)"
   ]
  },
  {
   "cell_type": "code",
   "execution_count": null,
   "metadata": {},
   "outputs": [],
   "source": []
  }
 ],
 "metadata": {
  "kernelspec": {
   "display_name": "Python 3",
   "language": "python",
   "name": "python3"
  },
  "language_info": {
   "codemirror_mode": {
    "name": "ipython",
    "version": 3
   },
   "file_extension": ".py",
   "mimetype": "text/x-python",
   "name": "python",
   "nbconvert_exporter": "python",
   "pygments_lexer": "ipython3",
   "version": "3.6.6"
  }
 },
 "nbformat": 4,
 "nbformat_minor": 2
}
